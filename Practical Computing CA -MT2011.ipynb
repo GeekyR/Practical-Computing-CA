{
 "cells": [
  {
   "cell_type": "markdown",
   "metadata": {},
   "source": [
    "## Exercise 1\n",
    "\n",
    "Write a simple, short program to calculate and print area of the biggest faces and volume of a rectangulr cuboid with the dimensions given below:\n",
    "\n",
    "$$length(l) = 30 cm$$\n",
    "$$breadth(b) = 20 cm$$\n",
    "$$height(h) = 15 cm$$"
   ]
  },
  {
   "cell_type": "code",
   "execution_count": 1,
   "metadata": {},
   "outputs": [
    {
     "name": "stdout",
     "output_type": "stream",
     "text": [
      "volume of a rectangulr cuboid = 9000\n",
      "Area of the biggest faces  = 900\n"
     ]
    }
   ],
   "source": [
    "def volumeCuboid( l , b , h ):\n",
    "    return (l * h * b)\n",
    "     \n",
    "def surfaceAreaCuboid( l , b  ):\n",
    "    return (2 * l * b )\n",
    " \n",
    "\n",
    "l = 30\n",
    "h = 20\n",
    "b = 15\n",
    "print(\"volume of a rectangulr cuboid =\" , volumeCuboid(l, h, b))\n",
    "print(\"Area of the biggest faces  =\", surfaceAreaCuboid(l, b))"
   ]
  },
  {
   "cell_type": "markdown",
   "metadata": {},
   "source": [
    "## Exercise 2\n",
    "\n",
    "Write a simple, short program to calculate and print area of one of the biggest face and volume of a rectangular cuboid with the dimensions given below. Use functions and loops if required.\n",
    "\n",
    "$$ Length(l) = [30cm, 40cm, 50cm] $$\n",
    "$$ Breadth(b) = 20cm $$\n",
    "$$Height(h) = 15cm $$"
   ]
  },
  {
   "cell_type": "code",
   "execution_count": 2,
   "metadata": {},
   "outputs": [
    {
     "name": "stdout",
     "output_type": "stream",
     "text": [
      "volume of a rectangulr cuboid = 9000\n",
      "volume of a rectangulr cuboid = 12000\n",
      "volume of a rectangulr cuboid = 15000\n",
      "Area of the biggest faces  = 1200\n",
      "Area of the biggest faces  = 1600\n",
      "Area of the biggest faces  = 2000\n"
     ]
    }
   ],
   "source": [
    "def volumeCuboid( l , b , h ):\n",
    "    \n",
    "    for i in [30,40,50]:\n",
    "        volume=i * h * b\n",
    "        print (\"volume of a rectangulr cuboid =\",volume)\n",
    "\n",
    "        \n",
    "def surfaceAreaCuboid( l , b  ):\n",
    "    for i in [30,40,50]:\n",
    "        area=2*i*h\n",
    "        print (\"Area of the biggest faces  =\",area )\n",
    "    \n",
    "\n",
    "h = 20\n",
    "b = 15\n",
    "\n",
    "volumeCuboid(l, h, b)\n",
    "surfaceAreaCuboid(l, b)"
   ]
  },
  {
   "cell_type": "markdown",
   "metadata": {},
   "source": [
    "### Exercise 3\n",
    "• Self-learning activity:\n",
    "\n",
    "• gather more information about unit testing and profiling modules in python."
   ]
  },
  {
   "cell_type": "markdown",
   "metadata": {},
   "source": [
    "### 1 Unit Testing:\n",
    "\n",
    "Unit Testing is the first level of software testing where the smallest testable parts of a software are tested. This is used to validate that each unit of the software performs as designed.Unit testing refers to a method of testing where software is broken down into different components (units) and each unit is tested functionally and in isolation from the other units or modules.Unit testing is generally performed before integration testing since, in order to verify that parts of a system work well together, we have to first verify that they work as expected individually first. It is also generally carried out by the developers building the individual components during the development process.\n",
    "\n",
    "Benefits of Unit Testing Unit testing is beneficial in that it fixes bugs and issues early in the development process and eventually speeds it up.\n",
    "\n",
    "The cost of fixing bugs identified during unit testing is also low as compared to fixing them during integration testing or while in production.\n",
    "\n",
    "Unit tests also serve as documentation of the project by defining what each part of the system does through well written and documented tests. When refactoring a system or adding features, unit tests help guard against changes that break the existing functionality.\n"
   ]
  },
  {
   "cell_type": "markdown",
   "metadata": {},
   "source": [
    "### 2. Profiling modules:\n",
    "cProfile and profile provide deterministic profiling of Python programs. A profile is a set of statistics that describes how often and for how long various parts of the program executed. These statistics can be formatted into reports via the pstats module.\n",
    "\n",
    "The Python standard library provides two different implementations of the same profiling interface:\n",
    "\n",
    "cProfile is recommended for most users; it’s a C extension with reasonable overhead that makes it suitable for profiling long-running programs. Based on lsprof, contributed by Brett Rosen and Ted Czotter."
   ]
  },
  {
   "cell_type": "code",
   "execution_count": null,
   "metadata": {},
   "outputs": [],
   "source": []
  }
 ],
 "metadata": {
  "kernelspec": {
   "display_name": "Python 3",
   "language": "python",
   "name": "python3"
  },
  "language_info": {
   "codemirror_mode": {
    "name": "ipython",
    "version": 3
   },
   "file_extension": ".py",
   "mimetype": "text/x-python",
   "name": "python",
   "nbconvert_exporter": "python",
   "pygments_lexer": "ipython3",
   "version": "3.8.5"
  }
 },
 "nbformat": 4,
 "nbformat_minor": 4
}
